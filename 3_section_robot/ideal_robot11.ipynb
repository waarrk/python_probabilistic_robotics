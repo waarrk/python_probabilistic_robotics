{
 "cells": [
  {
   "cell_type": "code",
   "execution_count": 9,
   "metadata": {},
   "outputs": [],
   "source": [
    "import matplotlib\n",
    "matplotlib.use('nbagg')\n",
    "import matplotlib.animation as anm\n",
    "import matplotlib.pyplot as plt\n",
    "import math\n",
    "import matplotlib.patches as patches\n",
    "import numpy as np\n",
    "\n",
    "%matplotlib widget"
   ]
  },
  {
   "cell_type": "code",
   "execution_count": 10,
   "metadata": {},
   "outputs": [],
   "source": [
    "class World:\n",
    "    def __init__(self, time_span, time_interval, debug=False):\n",
    "        self.objects = []\n",
    "        self.debug = debug\n",
    "        self.time_span = time_span\n",
    "        self.time_interval = time_interval\n",
    "\n",
    "    \n",
    "    def append(self, obj):\n",
    "        self.objects.append(obj)\n",
    "    \n",
    "    def draw(self):\n",
    "        fig = plt.figure(figsize=(8, 8))\n",
    "        ax = fig.add_subplot(111)\n",
    "        ax.set_aspect('equal')\n",
    "        ax.set_xlim(-5, 5)\n",
    "        ax.set_ylim(-5, 5)\n",
    "        ax.set_xlabel('X', fontsize=20)\n",
    "        ax.set_ylabel('Y', fontsize=20)\n",
    "\n",
    "        elems = []\n",
    "        \n",
    "        if self.debug:\n",
    "            for i in range(1000):\n",
    "                self.one_step(i, elems, ax) #デバッグ時はアニメーションなし\n",
    "        else:\n",
    "            self.ani = anm.FuncAnimation(fig, self.one_step, fargs=(elems, ax), frames=int(self.time_span/self.time_interval)+1, interval=int(self.time_interval*1000), repeat=False)\n",
    "            plt.show()\n",
    "\n",
    "    def one_step(self, i, elems, ax):\n",
    "        while elems: elems.pop().remove()\n",
    "        elems.append(ax.text(-4.4, 4.5, \"t = \"+str(i), fontsize=10)) \n",
    "        for obj in self.objects:\n",
    "            obj.draw(ax, elems)\n",
    "            if hasattr(obj, \"one_step\"): obj.one_step(self.time_interval)"
   ]
  },
  {
   "cell_type": "code",
   "execution_count": 11,
   "metadata": {},
   "outputs": [],
   "source": [
    "class IdealRobot:\n",
    "  def __init__(self, pose, agent=None, sensor=None, color='black'):\n",
    "    self.pose = pose\n",
    "    self.r = 0.2\n",
    "    self.color = color\n",
    "    self.agent = agent\n",
    "    self.poses = [pose]\n",
    "    self.sensor = sensor\n",
    "  \n",
    "  def draw(self, ax, elems):\n",
    "    x, y, theta = self.pose\n",
    "    xn = x + self.r * math.cos(theta)\n",
    "    yn = y + self.r * math.sin(theta)\n",
    "    elems += ax.plot([x, xn], [y, yn], color=self.color)\n",
    "    c = patches.Circle(xy=(x, y), radius=self.r, fill=False, color=self.color)\n",
    "    elems.append(ax.add_patch(c))\n",
    "    if self.sensor and len(self.poses) > 1: \n",
    "            self.sensor.draw(ax, elems, self.poses[-2])\n",
    "    if self.agent and hasattr(self.agent, \"draw\"):\n",
    "        self.agent.draw(ax, elems)\n",
    "\n",
    "    self.poses.append(self.pose) #軌跡の描画用\n",
    "    elems += ax.plot([e[0] for e in self.poses], [e[1] for e in self.poses], linewidth=0.5, color='black')\n",
    "    if self.sensor and len(self.poses) > 1:\n",
    "        self.sensor.draw(ax, elems, self.poses[-2])\n",
    "\n",
    "  @classmethod\n",
    "  def state_transition(cls, nu, omega, time, pose):\n",
    "      t0 = pose[2]\n",
    "      if math.fabs(omega) < 1e-10:\n",
    "          return pose + np.array([nu*math.cos(t0), nu*math.sin(t0), omega])*time\n",
    "      else:\n",
    "          return pose + np.array([nu/omega*(math.sin(t0 + omega*time) - math.sin(t0)),\n",
    "                                  nu/omega*(-math.cos(t0 + omega*time) + math.cos(t0)),\n",
    "                                  omega*time])\n",
    "      \n",
    "  def one_step(self, time_interval):\n",
    "        if not self.agent: return\n",
    "        obs = self.sensor.data(self.pose) if self.sensor else None\n",
    "        nu, omega = self.agent.decision(obs)\n",
    "        self.pose = self.state_transition(nu, omega, time_interval, self.pose)"
   ]
  },
  {
   "cell_type": "code",
   "execution_count": 12,
   "metadata": {},
   "outputs": [],
   "source": [
    "class Agent:\n",
    "    def __init__(self, nu, omega):\n",
    "        self.nu = nu\n",
    "        self.omega = omega\n",
    "    \n",
    "    def decision(self, observation=None):\n",
    "        return self.nu, self.omega"
   ]
  },
  {
   "cell_type": "code",
   "execution_count": 13,
   "metadata": {},
   "outputs": [],
   "source": [
    "class Landmark:\n",
    "    def __init__(self, x, y):\n",
    "        self.pos = np.array([x, y]).T\n",
    "        self.id = None\n",
    "        \n",
    "    def draw(self, ax, elems):\n",
    "        c = ax.scatter(self.pos[0], self.pos[1], s=100, marker=\"*\", label=\"landmarks\", color=\"orange\")\n",
    "        elems.append(c)\n",
    "        elems.append(ax.text(self.pos[0], self.pos[1], \"id:\" + str(self.id), fontsize=10))"
   ]
  },
  {
   "cell_type": "code",
   "execution_count": 14,
   "metadata": {},
   "outputs": [],
   "source": [
    "class Map:\n",
    "    def __init__(self):\n",
    "        self.landmarks = []\n",
    "    \n",
    "    def append_landmark(self, landmark):\n",
    "        landmark.id = len(self.landmarks)\n",
    "        self.landmarks.append(landmark)\n",
    "    \n",
    "    def draw(self, ax, elems):\n",
    "        for lm in self.landmarks: lm.draw(ax, elems)"
   ]
  },
  {
   "cell_type": "code",
   "execution_count": 15,
   "metadata": {},
   "outputs": [],
   "source": [
    "class IdealCamera:\n",
    "    def __init__(self, env_map, \\\n",
    "                 distance_range=(0.5, 6.0),\n",
    "                 direction_range=(-math.pi/3, math.pi/3)):\n",
    "        self.map = env_map\n",
    "        self.lastdata = []\n",
    "        \n",
    "        self.distance_range = distance_range\n",
    "        self.direction_range = direction_range\n",
    "        \n",
    "    def visible(self, polarpos):  # ランドマークが計測できる条件\n",
    "        if polarpos is None:\n",
    "            return False\n",
    "        \n",
    "        return self.distance_range[0] <= polarpos[0] <= self.distance_range[1] \\\n",
    "                and self.direction_range[0] <= polarpos[1] <= self.direction_range[1]\n",
    "        \n",
    "    def data(self, cam_pose):\n",
    "        observed = []\n",
    "        for lm in self.map.landmarks:\n",
    "            z = self.observation_function(cam_pose, lm.pos)\n",
    "            if self.visible(z):\n",
    "                observed.append((z, lm.id))\n",
    "            \n",
    "        self.lastdata = observed \n",
    "        return observed\n",
    "    \n",
    "    @classmethod\n",
    "    def observation_function(cls, cam_pose, obj_pos):\n",
    "        diff = obj_pos - cam_pose[0:2]\n",
    "        phi = math.atan2(diff[1], diff[0]) - cam_pose[2]\n",
    "        while phi >= np.pi: phi -= 2*np.pi\n",
    "        while phi < -np.pi: phi += 2*np.pi\n",
    "        return np.array( [np.hypot(*diff), phi ] ).T\n",
    "    \n",
    "    def draw(self, ax, elems, cam_pose): \n",
    "        for lm in self.lastdata:\n",
    "            x, y, theta = cam_pose\n",
    "            distance, direction = lm[0][0], lm[0][1]\n",
    "            lx = x + distance * math.cos(direction + theta)\n",
    "            ly = y + distance * math.sin(direction + theta)\n",
    "            elems += ax.plot([x,lx], [y,ly], color=\"pink\")"
   ]
  },
  {
   "cell_type": "code",
   "execution_count": 16,
   "metadata": {},
   "outputs": [
    {
     "data": {
      "application/vnd.jupyter.widget-view+json": {
       "model_id": "fe6b8d4827124be9ba3f3a1121291532",
       "version_major": 2,
       "version_minor": 0
      },
      "image/png": "[encoded data removed]",
      "text/html": [
       "\n",
       "            <div style=\"display: inline-block;\">\n",
       "                <div class=\"jupyter-widgets widget-label\" style=\"text-align: center;\">\n",
       "                    Figure\n",
       "                </div>\n",
       "                <img src='data:image/png;base64,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' width=800.0/>\n",
       "            </div>\n",
       "        "
      ],
      "text/plain": [
       "Canvas(toolbar=Toolbar(toolitems=[('Home', 'Reset original view', 'home', 'home'), ('Back', 'Back to previous …"
      ]
     },
     "metadata": {},
     "output_type": "display_data"
    }
   ],
   "source": [
    "if __name__ == '__main__':\n",
    "  world = World(10, 0.1, debug=False)\n",
    "\n",
    "  m = Map()                                  \n",
    "  m.append_landmark(Landmark(2,-2))\n",
    "  m.append_landmark(Landmark(-1,-3))\n",
    "  m.append_landmark(Landmark(3,3))\n",
    "  world.append(m)          \n",
    "\n",
    "  straight = Agent(0.2, 0.0)    \n",
    "  circling = Agent(0.2, 10.0/180*math.pi)  \n",
    "  robot1 = IdealRobot( np.array([ 2, 3, math.pi/6]).T,    sensor=IdealCamera(m), agent=straight )\n",
    "  robot2 = IdealRobot( np.array([-2, -1, math.pi/5*6]).T, sensor=IdealCamera(m), agent=circling, color=\"red\")\n",
    "  world.append(robot1)\n",
    "  world.append(robot2)\n",
    "\n",
    "  ### アニメーション実行 ###\n",
    "  world.draw()"
   ]
  }
 ],
 "metadata": {
  "kernelspec": {
   "display_name": "Python 3 (ipykernel)",
   "language": "python",
   "name": "python3"
  },
  "language_info": {
   "codemirror_mode": {
    "name": "ipython",
    "version": 3
   },
   "file_extension": ".py",
   "mimetype": "text/x-python",
   "name": "python",
   "nbconvert_exporter": "python",
   "pygments_lexer": "ipython3",
   "version": "3.8.13"
  }
 },
 "nbformat": 4,
 "nbformat_minor": 2
}
