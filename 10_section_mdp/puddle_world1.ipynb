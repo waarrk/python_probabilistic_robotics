{
 "cells": [
  {
   "cell_type": "code",
   "execution_count": 1,
   "metadata": {},
   "outputs": [
    {
     "ename": "SyntaxError",
     "evalue": "invalid syntax (kf.py, line 6)",
     "output_type": "error",
     "traceback": [
      "Traceback \u001b[0;36m(most recent call last)\u001b[0m:\n",
      "  File \u001b[1;32m\"/opt/anaconda3/envs/pyctrl/lib/python3.8/site-packages/IPython/core/interactiveshell.py\"\u001b[0m, line \u001b[1;32m3457\u001b[0m, in \u001b[1;35mrun_code\u001b[0m\n    exec(code_obj, self.user_global_ns, self.user_ns)\n",
      "\u001b[0;36m  File \u001b[0;32m\"/var/folders/7w/8lt0xx8117qcdfrkx34sxq7m0000gn/T/ipykernel_64473/914113226.py\"\u001b[0;36m, line \u001b[0;32m3\u001b[0;36m, in \u001b[0;35m<module>\u001b[0;36m\u001b[0m\n\u001b[0;31m    from kf import *\u001b[0m\n",
      "\u001b[0;36m  File \u001b[0;32m\"/Users/waarrk/Documents/software_cit/python_probabilistic_robotics/10_section_mdp/../scripts/kf.py\"\u001b[0;36m, line \u001b[0;32m6\u001b[0m\n\u001b[0;31m    %matplotlib widget\u001b[0m\n\u001b[0m    ^\u001b[0m\n\u001b[0;31mSyntaxError\u001b[0m\u001b[0;31m:\u001b[0m invalid syntax\n"
     ]
    }
   ],
   "source": [
    "import sys\n",
    "sys.path.append('../scripts/')\n",
    "from kf import *\n",
    "%matplotlib widget"
   ]
  },
  {
   "cell_type": "code",
   "execution_count": null,
   "metadata": {},
   "outputs": [],
   "source": [
    "class Goal:\n",
    "    def __init__(self, x, y, radius=0.3):\n",
    "        self.pos = np.array([x, y]).T\n",
    "        self.radius = radius\n",
    "\n",
    "    def draw(self, ax, elems):\n",
    "        x, y = self.pos\n",
    "        c = ax.scatter(x + 0.16, y + 0.5, s=50, marker=\">\",\n",
    "                       label=\"landmarks\", color=\"red\")\n",
    "        elems.append(c)\n",
    "        elems += ax.plot([x, x], [y, y + 0.6], color=\"black\")"
   ]
  },
  {
   "cell_type": "code",
   "execution_count": null,
   "metadata": {},
   "outputs": [],
   "source": [
    "def trial():\n",
    "    time_interval = 0.1\n",
    "    world = World(30, time_interval, debug=False)\n",
    "\n",
    "    m = Map()\n",
    "    for ln in [(-4, 2), (2, -3), (3, 3)]:\n",
    "        m.append_landmark(Landmark(*ln))\n",
    "    world.append(m)\n",
    "\n",
    "    world.append(Goal(-3, -3))\n",
    "\n",
    "    initial_pose = np.array([0, 0, 0]).T\n",
    "    kf = KalmanFilter(m, initial_pose)\n",
    "    a = EstimationAgent(time_interval, 0.2, 10.0/180*math.pi, kf)\n",
    "    r = Robot(initial_pose, sensor=Camera(m, distance_bias_rate_stddev=0, direction_bias_stddev=0),\n",
    "              agent=a, color=\"red\", bias_rate_stds=(0, 0))\n",
    "    world.append(r)\n",
    "\n",
    "    world.draw()\n",
    "\n",
    "\n",
    "trial()"
   ]
  }
 ],
 "metadata": {
  "kernelspec": {
   "display_name": "pyctrl",
   "language": "python",
   "name": "python3"
  },
  "language_info": {
   "codemirror_mode": {
    "name": "ipython",
    "version": 3
   },
   "file_extension": ".py",
   "mimetype": "text/x-python",
   "name": "python",
   "nbconvert_exporter": "python",
   "pygments_lexer": "ipython3",
   "version": "3.8.13"
  }
 },
 "nbformat": 4,
 "nbformat_minor": 2
}
